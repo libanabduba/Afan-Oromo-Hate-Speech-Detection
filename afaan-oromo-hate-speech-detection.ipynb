{
 "cells": [
  {
   "cell_type": "code",
   "execution_count": 1,
   "id": "5cd58604",
   "metadata": {
    "_cell_guid": "b1076dfc-b9ad-4769-8c92-a6c4dae69d19",
    "_uuid": "8f2839f25d086af736a60e9eeb907d3b93b6e0e5",
    "execution": {
     "iopub.execute_input": "2024-01-10T08:06:38.431831Z",
     "iopub.status.busy": "2024-01-10T08:06:38.431007Z",
     "iopub.status.idle": "2024-01-10T08:06:38.842600Z",
     "shell.execute_reply": "2024-01-10T08:06:38.841319Z"
    },
    "papermill": {
     "duration": 0.42263,
     "end_time": "2024-01-10T08:06:38.845088",
     "exception": false,
     "start_time": "2024-01-10T08:06:38.422458",
     "status": "completed"
    },
    "tags": []
   },
   "outputs": [
    {
     "name": "stdout",
     "output_type": "stream",
     "text": [
      "/kaggle/input/afaan-oromo-hate-speech-dataset/Afaan Oromo Hate Speech Dataset.csv\n"
     ]
    }
   ],
   "source": [
    "# This Python 3 environment comes with many helpful analytics libraries installed\n",
    "# It is defined by the kaggle/python Docker image: https://github.com/kaggle/docker-python\n",
    "# For example, here's several helpful packages to load\n",
    "\n",
    "import numpy as np # linear algebra\n",
    "import pandas as pd # data processing, CSV file I/O (e.g. pd.read_csv)\n",
    "\n",
    "# Input data files are available in the read-only \"../input/\" directory\n",
    "# For example, running this (by clicking run or pressing Shift+Enter) will list all files under the input directory\n",
    "\n",
    "import os\n",
    "for dirname, _, filenames in os.walk('/kaggle/input'):\n",
    "    for filename in filenames:\n",
    "        print(os.path.join(dirname, filename))\n",
    "\n",
    "# You can write up to 20GB to the current directory (/kaggle/working/) that gets preserved as output when you create a version using \"Save & Run All\" \n",
    "# You can also write temporary files to /kaggle/temp/, but they won't be saved outside of the current session"
   ]
  },
  {
   "cell_type": "code",
   "execution_count": 2,
   "id": "5a029e06",
   "metadata": {
    "execution": {
     "iopub.execute_input": "2024-01-10T08:06:38.858226Z",
     "iopub.status.busy": "2024-01-10T08:06:38.857398Z",
     "iopub.status.idle": "2024-01-10T08:06:53.895515Z",
     "shell.execute_reply": "2024-01-10T08:06:53.894345Z"
    },
    "papermill": {
     "duration": 15.047516,
     "end_time": "2024-01-10T08:06:53.898159",
     "exception": false,
     "start_time": "2024-01-10T08:06:38.850643",
     "status": "completed"
    },
    "tags": []
   },
   "outputs": [],
   "source": [
    "import pandas as pd # read the csv\n",
    "import seaborn as sns\n",
    "import matplotlib.pyplot as plt\n",
    "import re # regex to detect username, url, html entity \n",
    "import nltk # to use word tokenize (split the sentence into words)\n",
    "from nltk.corpus import stopwords # to remove the stopwords\n",
    "from sklearn.model_selection import train_test_split\n",
    "from tensorflow.keras.preprocessing.text import Tokenizer\n",
    "from tensorflow.keras.preprocessing.sequence import pad_sequences\n",
    "from tensorflow.keras.models import Sequential\n",
    "from tensorflow.keras.layers import Embedding, LSTM, Dense, Dropout\n",
    "from sklearn.preprocessing import LabelEncoder\n",
    "\n",
    "from keras.utils import to_categorical\n",
    "from keras import backend as K"
   ]
  },
  {
   "cell_type": "code",
   "execution_count": 3,
   "id": "dd8d4b9f",
   "metadata": {
    "execution": {
     "iopub.execute_input": "2024-01-10T08:06:53.911955Z",
     "iopub.status.busy": "2024-01-10T08:06:53.910664Z",
     "iopub.status.idle": "2024-01-10T08:06:54.047995Z",
     "shell.execute_reply": "2024-01-10T08:06:54.046876Z"
    },
    "papermill": {
     "duration": 0.147872,
     "end_time": "2024-01-10T08:06:54.051510",
     "exception": false,
     "start_time": "2024-01-10T08:06:53.903638",
     "status": "completed"
    },
    "tags": []
   },
   "outputs": [],
   "source": [
    "all_data = pd.read_csv(\"/kaggle/input/afaan-oromo-hate-speech-dataset/Afaan Oromo Hate Speech Dataset.csv\")\n",
    "all_data.head()\n",
    "label_encoder = LabelEncoder()\n",
    "\n",
    "# Encode string labels to numerical categories\n",
    "all_data['Labels'] = label_encoder.fit_transform(all_data['Labels'])"
   ]
  },
  {
   "cell_type": "code",
   "execution_count": 4,
   "id": "37497c79",
   "metadata": {
    "execution": {
     "iopub.execute_input": "2024-01-10T08:06:54.065106Z",
     "iopub.status.busy": "2024-01-10T08:06:54.064709Z",
     "iopub.status.idle": "2024-01-10T08:06:54.070238Z",
     "shell.execute_reply": "2024-01-10T08:06:54.069024Z"
    },
    "papermill": {
     "duration": 0.015395,
     "end_time": "2024-01-10T08:06:54.073136",
     "exception": false,
     "start_time": "2024-01-10T08:06:54.057741",
     "status": "completed"
    },
    "tags": []
   },
   "outputs": [
    {
     "name": "stdout",
     "output_type": "stream",
     "text": [
      "num of data: (20000, 2)\n"
     ]
    }
   ],
   "source": [
    "print(f\"num of data: {all_data.shape}\")"
   ]
  },
  {
   "cell_type": "code",
   "execution_count": 5,
   "id": "93874823",
   "metadata": {
    "execution": {
     "iopub.execute_input": "2024-01-10T08:06:54.085983Z",
     "iopub.status.busy": "2024-01-10T08:06:54.085575Z",
     "iopub.status.idle": "2024-01-10T08:06:54.092383Z",
     "shell.execute_reply": "2024-01-10T08:06:54.091347Z"
    },
    "papermill": {
     "duration": 0.01616,
     "end_time": "2024-01-10T08:06:54.094682",
     "exception": false,
     "start_time": "2024-01-10T08:06:54.078522",
     "status": "completed"
    },
    "tags": []
   },
   "outputs": [],
   "source": [
    "posts = all_data['Posts']\n",
    "labels = all_data['Labels']"
   ]
  },
  {
   "cell_type": "code",
   "execution_count": 6,
   "id": "2906446a",
   "metadata": {
    "execution": {
     "iopub.execute_input": "2024-01-10T08:06:54.107692Z",
     "iopub.status.busy": "2024-01-10T08:06:54.107319Z",
     "iopub.status.idle": "2024-01-10T08:06:54.137268Z",
     "shell.execute_reply": "2024-01-10T08:06:54.136095Z"
    },
    "papermill": {
     "duration": 0.039022,
     "end_time": "2024-01-10T08:06:54.139519",
     "exception": false,
     "start_time": "2024-01-10T08:06:54.100497",
     "status": "completed"
    },
    "tags": []
   },
   "outputs": [
    {
     "name": "stdout",
     "output_type": "stream",
     "text": [
      "<class 'pandas.core.frame.DataFrame'>\n",
      "RangeIndex: 20000 entries, 0 to 19999\n",
      "Data columns (total 2 columns):\n",
      " #   Column  Non-Null Count  Dtype \n",
      "---  ------  --------------  ----- \n",
      " 0   Posts   20000 non-null  object\n",
      " 1   Labels  20000 non-null  int64 \n",
      "dtypes: int64(1), object(1)\n",
      "memory usage: 312.6+ KB\n"
     ]
    }
   ],
   "source": [
    "all_data.info()"
   ]
  },
  {
   "cell_type": "code",
   "execution_count": 7,
   "id": "fb22982f",
   "metadata": {
    "execution": {
     "iopub.execute_input": "2024-01-10T08:06:54.152967Z",
     "iopub.status.busy": "2024-01-10T08:06:54.152251Z",
     "iopub.status.idle": "2024-01-10T08:06:54.400208Z",
     "shell.execute_reply": "2024-01-10T08:06:54.399084Z"
    },
    "papermill": {
     "duration": 0.257351,
     "end_time": "2024-01-10T08:06:54.402699",
     "exception": false,
     "start_time": "2024-01-10T08:06:54.145348",
     "status": "completed"
    },
    "tags": []
   },
   "outputs": [
    {
     "data": {
      "image/png": "[encoded data removed]",
      "text/plain": [
       "<Figure size 640x480 with 1 Axes>"
      ]
     },
     "metadata": {},
     "output_type": "display_data"
    }
   ],
   "source": [
    "sns.countplot(x='Labels', data=all_data)\n",
    "plt.title('Labels Count')\n",
    "plt.show()"
   ]
  },
  {
   "cell_type": "code",
   "execution_count": 8,
   "id": "ffbbaa2b",
   "metadata": {
    "execution": {
     "iopub.execute_input": "2024-01-10T08:06:54.417083Z",
     "iopub.status.busy": "2024-01-10T08:06:54.416273Z",
     "iopub.status.idle": "2024-01-10T08:06:54.424964Z",
     "shell.execute_reply": "2024-01-10T08:06:54.423131Z"
    },
    "papermill": {
     "duration": 0.019698,
     "end_time": "2024-01-10T08:06:54.428189",
     "exception": false,
     "start_time": "2024-01-10T08:06:54.408491",
     "status": "completed"
    },
    "tags": []
   },
   "outputs": [],
   "source": [
    "# remove unnecessary symbols\n",
    "def remove_noise_symbols(raw_text):\n",
    "    text = raw_text.replace('\"', '')\n",
    "    text = text.replace(\"'\", '')\n",
    "    text = text.replace(\"!\", '')\n",
    "    text = text.replace(\"`\", '')\n",
    "    text = text.replace(\"..\", '')\n",
    "\n",
    "    return text\n",
    "\n",
    "# remove stopwords\n",
    "def remove_stopwords(raw_text):\n",
    "    tokenize = nltk.word_tokenize(raw_text)\n",
    "    text = [word for word in tokenize]\n",
    "    text = \" \".join(text)\n",
    "\n",
    "    return text\n",
    "\n",
    "## this function in to clean all the dataset by utilizing all the function above\n",
    "def preprocess(datas):\n",
    "    clean = []\n",
    "    clean = [remove_noise_symbols(text) for text in datas]\n",
    "    # remove stopwords\n",
    "    clean = [remove_stopwords(text) for text in clean]\n",
    "\n",
    "    return clean"
   ]
  },
  {
   "cell_type": "code",
   "execution_count": 9,
   "id": "9346056f",
   "metadata": {
    "execution": {
     "iopub.execute_input": "2024-01-10T08:06:54.441992Z",
     "iopub.status.busy": "2024-01-10T08:06:54.441597Z",
     "iopub.status.idle": "2024-01-10T08:06:58.391479Z",
     "shell.execute_reply": "2024-01-10T08:06:58.389732Z"
    },
    "papermill": {
     "duration": 3.959901,
     "end_time": "2024-01-10T08:06:58.394129",
     "exception": false,
     "start_time": "2024-01-10T08:06:54.434228",
     "status": "completed"
    },
    "tags": []
   },
   "outputs": [],
   "source": [
    "clean_post = preprocess(posts)"
   ]
  },
  {
   "cell_type": "code",
   "execution_count": 10,
   "id": "e17a26cf",
   "metadata": {
    "execution": {
     "iopub.execute_input": "2024-01-10T08:06:58.408627Z",
     "iopub.status.busy": "2024-01-10T08:06:58.407444Z",
     "iopub.status.idle": "2024-01-10T08:06:58.420193Z",
     "shell.execute_reply": "2024-01-10T08:06:58.418540Z"
    },
    "papermill": {
     "duration": 0.022376,
     "end_time": "2024-01-10T08:06:58.422509",
     "exception": false,
     "start_time": "2024-01-10T08:06:58.400133",
     "status": "completed"
    },
    "tags": []
   },
   "outputs": [],
   "source": [
    "X_train, X_test, y_train, y_test = train_test_split(clean_post, labels, test_size=0.2, random_state=42)"
   ]
  },
  {
   "cell_type": "code",
   "execution_count": 11,
   "id": "47a6430f",
   "metadata": {
    "execution": {
     "iopub.execute_input": "2024-01-10T08:06:58.436993Z",
     "iopub.status.busy": "2024-01-10T08:06:58.435810Z",
     "iopub.status.idle": "2024-01-10T08:06:59.566784Z",
     "shell.execute_reply": "2024-01-10T08:06:59.565576Z"
    },
    "papermill": {
     "duration": 1.142557,
     "end_time": "2024-01-10T08:06:59.570893",
     "exception": false,
     "start_time": "2024-01-10T08:06:58.428336",
     "status": "completed"
    },
    "tags": []
   },
   "outputs": [],
   "source": [
    "## Tokenizing -> basically we use tokenisation for many things, its commonly used for feature extraction in preprocessing. btw idk how it works as feature extraction tho :(\n",
    "# declare the tokenizer\n",
    "tokenizer = Tokenizer()\n",
    "# build the vocabulary based on train dataset\n",
    "tokenizer.fit_on_texts(X_train)\n",
    "# tokenize the train and test dataset\n",
    "X_train = tokenizer.texts_to_sequences(X_train)\n",
    "X_test = tokenizer.texts_to_sequences(X_test)\n",
    "\n",
    "# vocabulary size (num of unique words) -> will be used in embedding layer\n",
    "vocab_size = len(tokenizer.word_index) + 1"
   ]
  },
  {
   "cell_type": "code",
   "execution_count": 12,
   "id": "af72a236",
   "metadata": {
    "execution": {
     "iopub.execute_input": "2024-01-10T08:06:59.586453Z",
     "iopub.status.busy": "2024-01-10T08:06:59.586036Z",
     "iopub.status.idle": "2024-01-10T08:06:59.691353Z",
     "shell.execute_reply": "2024-01-10T08:06:59.690112Z"
    },
    "papermill": {
     "duration": 0.115992,
     "end_time": "2024-01-10T08:06:59.693907",
     "exception": false,
     "start_time": "2024-01-10T08:06:59.577915",
     "status": "completed"
    },
    "tags": []
   },
   "outputs": [],
   "source": [
    "## Padding -> to uniform the datas\n",
    "max_length = max(len(seq) for seq in X_train)\n",
    "\n",
    "# to test an outlier case (if one of the test dataset has longer length)\n",
    "for x in X_test:\n",
    "    if len(x) > max_length:\n",
    "        print(f\"an outlier detected: {x}\")\n",
    "\n",
    "X_train = pad_sequences(X_train, maxlen = max_length)\n",
    "X_test = pad_sequences(X_test, maxlen = max_length)"
   ]
  },
  {
   "cell_type": "code",
   "execution_count": 13,
   "id": "7bd28030",
   "metadata": {
    "execution": {
     "iopub.execute_input": "2024-01-10T08:06:59.709694Z",
     "iopub.status.busy": "2024-01-10T08:06:59.708849Z",
     "iopub.status.idle": "2024-01-10T08:06:59.715261Z",
     "shell.execute_reply": "2024-01-10T08:06:59.714178Z"
    },
    "papermill": {
     "duration": 0.017651,
     "end_time": "2024-01-10T08:06:59.717894",
     "exception": false,
     "start_time": "2024-01-10T08:06:59.700243",
     "status": "completed"
    },
    "tags": []
   },
   "outputs": [],
   "source": [
    "# create hot_labels (idk whty tapi ini penting, kalo ga bakal error)\n",
    "y_test = to_categorical(y_test, num_classes=2)\n",
    "y_train = to_categorical(y_train, num_classes=2)"
   ]
  },
  {
   "cell_type": "code",
   "execution_count": 14,
   "id": "b99d68db",
   "metadata": {
    "execution": {
     "iopub.execute_input": "2024-01-10T08:06:59.733035Z",
     "iopub.status.busy": "2024-01-10T08:06:59.732595Z",
     "iopub.status.idle": "2024-01-10T08:06:59.737446Z",
     "shell.execute_reply": "2024-01-10T08:06:59.736684Z"
    },
    "papermill": {
     "duration": 0.014748,
     "end_time": "2024-01-10T08:06:59.739756",
     "exception": false,
     "start_time": "2024-01-10T08:06:59.725008",
     "status": "completed"
    },
    "tags": []
   },
   "outputs": [
    {
     "name": "stdout",
     "output_type": "stream",
     "text": [
      "num test posts: 4000\n",
      "num train posts: 16000\n"
     ]
    }
   ],
   "source": [
    "# another look on the number of tweet in test and training data\n",
    "\n",
    "print(f\"num test posts: {y_test.shape[0]}\")\n",
    "print(f\"num train posts: {y_train.shape[0]}\")"
   ]
  },
  {
   "cell_type": "code",
   "execution_count": 15,
   "id": "3386e1d8",
   "metadata": {
    "execution": {
     "iopub.execute_input": "2024-01-10T08:06:59.756403Z",
     "iopub.status.busy": "2024-01-10T08:06:59.755473Z",
     "iopub.status.idle": "2024-01-10T08:06:59.763293Z",
     "shell.execute_reply": "2024-01-10T08:06:59.762034Z"
    },
    "papermill": {
     "duration": 0.018699,
     "end_time": "2024-01-10T08:06:59.765618",
     "exception": false,
     "start_time": "2024-01-10T08:06:59.746919",
     "status": "completed"
    },
    "tags": []
   },
   "outputs": [],
   "source": [
    "def recall(y_true, y_pred):\n",
    "    true_positives = K.sum(K.round(K.clip(y_true * y_pred, 0, 1)))\n",
    "    possible_positives = K.sum(K.round(K.clip(y_true, 0, 1)))\n",
    "    recall = true_positives / (possible_positives + K.epsilon())\n",
    "    return recall\n",
    "\n",
    "def precision(y_true, y_pred):\n",
    "    true_positives = K.sum(K.round(K.clip(y_true * y_pred, 0, 1)))\n",
    "    predicted_positives = K.sum(K.round(K.clip(y_pred, 0, 1)))\n",
    "    precision = true_positives / (predicted_positives + K.epsilon())\n",
    "    return precision\n",
    "\n",
    "def f1(y_true, y_pred):\n",
    "    precisions = precision(y_true, y_pred)\n",
    "    recalls = recall(y_true, y_pred)\n",
    "    return 2*((precisions*recalls)/(precisions+recalls+K.epsilon()))"
   ]
  },
  {
   "cell_type": "code",
   "execution_count": 16,
   "id": "e315cbad",
   "metadata": {
    "execution": {
     "iopub.execute_input": "2024-01-10T08:06:59.779798Z",
     "iopub.status.busy": "2024-01-10T08:06:59.779161Z",
     "iopub.status.idle": "2024-01-10T08:07:00.294335Z",
     "shell.execute_reply": "2024-01-10T08:07:00.293015Z"
    },
    "papermill": {
     "duration": 0.526124,
     "end_time": "2024-01-10T08:07:00.297814",
     "exception": false,
     "start_time": "2024-01-10T08:06:59.771690",
     "status": "completed"
    },
    "tags": []
   },
   "outputs": [],
   "source": [
    "# change dis if u want\n",
    "output_dim = 200\n",
    "\n",
    "# LSTM model architechture (CNN + LSTM)\n",
    "model = Sequential([\n",
    "    # embedding layer is like idk\n",
    "    Embedding(vocab_size, output_dim, input_length=max_length),\n",
    "    # lstm for xxx\n",
    "    LSTM(64, dropout=0.3, recurrent_dropout=0.3),\n",
    "    # dropout to prevent overfitting\n",
    "    Dropout(0.5),\n",
    "    # dense to connect the previous output with current layer\n",
    "    Dense(128, activation=\"relu\"),\n",
    "    # dropout to prevent overfitting\n",
    "    Dropout(0.5),\n",
    "    # this is output layer, with 3 class (0, 1, 2)\n",
    "    Dense(2, activation=\"softmax\"),\n",
    "])\n",
    "\n",
    "model.compile(optimizer='adam', loss='categorical_crossentropy', metrics=['accuracy',f1,precision, recall])"
   ]
  },
  {
   "cell_type": "code",
   "execution_count": 17,
   "id": "b38eb1e6",
   "metadata": {
    "execution": {
     "iopub.execute_input": "2024-01-10T08:07:00.314387Z",
     "iopub.status.busy": "2024-01-10T08:07:00.314012Z",
     "iopub.status.idle": "2024-01-10T08:07:00.345212Z",
     "shell.execute_reply": "2024-01-10T08:07:00.344250Z"
    },
    "papermill": {
     "duration": 0.045176,
     "end_time": "2024-01-10T08:07:00.349398",
     "exception": false,
     "start_time": "2024-01-10T08:07:00.304222",
     "status": "completed"
    },
    "tags": []
   },
   "outputs": [
    {
     "name": "stdout",
     "output_type": "stream",
     "text": [
      "Model: \"sequential\"\n",
      "_________________________________________________________________\n",
      " Layer (type)                Output Shape              Param #   \n",
      "=================================================================\n",
      " embedding (Embedding)       (None, 591, 200)          11843400  \n",
      "                                                                 \n",
      " lstm (LSTM)                 (None, 64)                67840     \n",
      "                                                                 \n",
      " dropout (Dropout)           (None, 64)                0         \n",
      "                                                                 \n",
      " dense (Dense)               (None, 128)               8320      \n",
      "                                                                 \n",
      " dropout_1 (Dropout)         (None, 128)               0         \n",
      "                                                                 \n",
      " dense_1 (Dense)             (None, 2)                 258       \n",
      "                                                                 \n",
      "=================================================================\n",
      "Total params: 11919818 (45.47 MB)\n",
      "Trainable params: 11919818 (45.47 MB)\n",
      "Non-trainable params: 0 (0.00 Byte)\n",
      "_________________________________________________________________\n"
     ]
    }
   ],
   "source": [
    "# checking the model parameters\n",
    "model.summary()"
   ]
  },
  {
   "cell_type": "code",
   "execution_count": 18,
   "id": "24d79e56",
   "metadata": {
    "execution": {
     "iopub.execute_input": "2024-01-10T08:07:00.366278Z",
     "iopub.status.busy": "2024-01-10T08:07:00.365903Z",
     "iopub.status.idle": "2024-01-10T08:39:56.836459Z",
     "shell.execute_reply": "2024-01-10T08:39:56.835281Z"
    },
    "papermill": {
     "duration": 1976.482705,
     "end_time": "2024-01-10T08:39:56.839412",
     "exception": false,
     "start_time": "2024-01-10T08:07:00.356707",
     "status": "completed"
    },
    "tags": []
   },
   "outputs": [
    {
     "name": "stdout",
     "output_type": "stream",
     "text": [
      "Epoch 1/10\n",
      "250/250 [==============================] - 201s 785ms/step - loss: 0.4814 - accuracy: 0.7613 - f1: 0.7613 - precision: 0.7613 - recall: 0.7613 - val_loss: 0.3603 - val_accuracy: 0.8403 - val_f1: 0.8398 - val_precision: 0.8398 - val_recall: 0.8398\n",
      "Epoch 2/10\n",
      "250/250 [==============================] - 193s 773ms/step - loss: 0.2303 - accuracy: 0.9105 - f1: 0.9105 - precision: 0.9105 - recall: 0.9105 - val_loss: 0.3831 - val_accuracy: 0.8435 - val_f1: 0.8430 - val_precision: 0.8430 - val_recall: 0.8430\n",
      "Epoch 3/10\n",
      "250/250 [==============================] - 196s 784ms/step - loss: 0.1175 - accuracy: 0.9439 - f1: 0.9439 - precision: 0.9439 - recall: 0.9439 - val_loss: 0.5952 - val_accuracy: 0.8152 - val_f1: 0.8145 - val_precision: 0.8145 - val_recall: 0.8145\n",
      "Epoch 4/10\n",
      "250/250 [==============================] - 197s 787ms/step - loss: 0.0919 - accuracy: 0.9542 - f1: 0.9542 - precision: 0.9542 - recall: 0.9542 - val_loss: 0.7617 - val_accuracy: 0.8202 - val_f1: 0.8199 - val_precision: 0.8199 - val_recall: 0.8199\n",
      "Epoch 5/10\n",
      "250/250 [==============================] - 196s 786ms/step - loss: 0.0687 - accuracy: 0.9602 - f1: 0.9602 - precision: 0.9602 - recall: 0.9602 - val_loss: 0.8812 - val_accuracy: 0.8198 - val_f1: 0.8189 - val_precision: 0.8189 - val_recall: 0.8189\n",
      "Epoch 6/10\n",
      "250/250 [==============================] - 198s 794ms/step - loss: 0.0686 - accuracy: 0.9604 - f1: 0.9604 - precision: 0.9604 - recall: 0.9604 - val_loss: 1.0115 - val_accuracy: 0.8150 - val_f1: 0.8142 - val_precision: 0.8142 - val_recall: 0.8142\n",
      "Epoch 7/10\n",
      "250/250 [==============================] - 194s 776ms/step - loss: 0.0620 - accuracy: 0.9619 - f1: 0.9619 - precision: 0.9619 - recall: 0.9619 - val_loss: 1.1258 - val_accuracy: 0.8133 - val_f1: 0.8125 - val_precision: 0.8125 - val_recall: 0.8125\n",
      "Epoch 8/10\n",
      "250/250 [==============================] - 202s 808ms/step - loss: 0.0593 - accuracy: 0.9634 - f1: 0.9634 - precision: 0.9634 - recall: 0.9634 - val_loss: 1.0580 - val_accuracy: 0.8135 - val_f1: 0.8130 - val_precision: 0.8130 - val_recall: 0.8130\n",
      "Epoch 9/10\n",
      "250/250 [==============================] - 201s 804ms/step - loss: 0.0584 - accuracy: 0.9646 - f1: 0.9646 - precision: 0.9646 - recall: 0.9646 - val_loss: 1.1295 - val_accuracy: 0.8158 - val_f1: 0.8152 - val_precision: 0.8152 - val_recall: 0.8152\n",
      "Epoch 10/10\n",
      "250/250 [==============================] - 198s 791ms/step - loss: 0.0570 - accuracy: 0.9656 - f1: 0.9656 - precision: 0.9656 - recall: 0.9656 - val_loss: 1.1690 - val_accuracy: 0.8058 - val_f1: 0.8051 - val_precision: 0.8051 - val_recall: 0.8051\n"
     ]
    }
   ],
   "source": [
    "# Train the model\n",
    "model_history = model.fit(\n",
    "    X_train,\n",
    "    y_train,\n",
    "    batch_size = 64,\n",
    "    epochs=10,\n",
    "    validation_data=(X_test, y_test)\n",
    ")"
   ]
  },
  {
   "cell_type": "code",
   "execution_count": 19,
   "id": "17253242",
   "metadata": {
    "execution": {
     "iopub.execute_input": "2024-01-10T08:39:57.262819Z",
     "iopub.status.busy": "2024-01-10T08:39:57.262439Z",
     "iopub.status.idle": "2024-01-10T08:39:57.515965Z",
     "shell.execute_reply": "2024-01-10T08:39:57.514933Z"
    },
    "papermill": {
     "duration": 0.501101,
     "end_time": "2024-01-10T08:39:57.518422",
     "exception": false,
     "start_time": "2024-01-10T08:39:57.017321",
     "status": "completed"
    },
    "tags": []
   },
   "outputs": [
    {
     "data": {
      "image/png": "[encoded data removed]",
      "text/plain": [
       "<Figure size 640x480 with 1 Axes>"
      ]
     },
     "metadata": {},
     "output_type": "display_data"
    }
   ],
   "source": [
    "hist = model.history.history\n",
    "plt.plot(hist['loss'],'r',linewidth=2, label='Training loss')\n",
    "plt.plot(hist['val_loss'], 'g',linewidth=2, label='Validation loss')\n",
    "plt.title('Hate Speech and Offensive language Model')\n",
    "plt.xlabel('Epochs numbers')\n",
    "plt.ylabel('MSE numbers')\n",
    "plt.show()"
   ]
  },
  {
   "cell_type": "code",
   "execution_count": 20,
   "id": "46921a7e",
   "metadata": {
    "execution": {
     "iopub.execute_input": "2024-01-10T08:39:57.872182Z",
     "iopub.status.busy": "2024-01-10T08:39:57.871766Z",
     "iopub.status.idle": "2024-01-10T08:40:08.290371Z",
     "shell.execute_reply": "2024-01-10T08:40:08.289241Z"
    },
    "papermill": {
     "duration": 10.598625,
     "end_time": "2024-01-10T08:40:08.292675",
     "exception": false,
     "start_time": "2024-01-10T08:39:57.694050",
     "status": "completed"
    },
    "tags": []
   },
   "outputs": [
    {
     "name": "stdout",
     "output_type": "stream",
     "text": [
      "125/125 [==============================] - 10s 80ms/step\n"
     ]
    },
    {
     "data": {
      "text/plain": [
       "array([[9.9999934e-01, 5.6342412e-07],\n",
       "       [1.6431876e-04, 9.9983573e-01],\n",
       "       [3.7584113e-04, 9.9962419e-01],\n",
       "       ...,\n",
       "       [2.2432553e-03, 9.9775672e-01],\n",
       "       [4.2922255e-01, 5.7077736e-01],\n",
       "       [6.2766736e-03, 9.9372327e-01]], dtype=float32)"
      ]
     },
     "execution_count": 20,
     "metadata": {},
     "output_type": "execute_result"
    }
   ],
   "source": [
    "model.predict(X_test)"
   ]
  },
  {
   "cell_type": "code",
   "execution_count": null,
   "id": "67e5daea",
   "metadata": {
    "papermill": {
     "duration": 0.179905,
     "end_time": "2024-01-10T08:40:08.656293",
     "exception": false,
     "start_time": "2024-01-10T08:40:08.476388",
     "status": "completed"
    },
    "tags": []
   },
   "outputs": [],
   "source": []
  }
 ],
 "metadata": {
  "kaggle": {
   "accelerator": "none",
   "dataSources": [
    {
     "datasetId": 4285276,
     "sourceId": 7374944,
     "sourceType": "datasetVersion"
    }
   ],
   "dockerImageVersionId": 30626,
   "isGpuEnabled": false,
   "isInternetEnabled": true,
   "language": "python",
   "sourceType": "notebook"
  },
  "kernelspec": {
   "display_name": "Python 3",
   "language": "python",
   "name": "python3"
  },
  "language_info": {
   "codemirror_mode": {
    "name": "ipython",
    "version": 3
   },
   "file_extension": ".py",
   "mimetype": "text/x-python",
   "name": "python",
   "nbconvert_exporter": "python",
   "pygments_lexer": "ipython3",
   "version": "3.10.12"
  },
  "papermill": {
   "default_parameters": {},
   "duration": 2015.333113,
   "end_time": "2024-01-10T08:40:10.667625",
   "environment_variables": {},
   "exception": null,
   "input_path": "__notebook__.ipynb",
   "output_path": "__notebook__.ipynb",
   "parameters": {},
   "start_time": "2024-01-10T08:06:35.334512",
   "version": "2.4.0"
  }
 },
 "nbformat": 4,
 "nbformat_minor": 5
}
